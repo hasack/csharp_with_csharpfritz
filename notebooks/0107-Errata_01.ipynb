{
 "cells": [
  {
   "cell_type": "markdown",
   "metadata": {},
   "source": [
    "# Session 7: The Errata Review No. 1\n",
    "\n",
    "This session is a review of the prior six sessions and covering those pieces that were left off.  Not necessarily errors, but missing pieces to complete the picture from the series.  These topics answer some questions and will help complete the picture of the C# language features discussed to this point.\n",
    "\n",
    "## Increment and Assignment operators\n",
    "\n",
    "In session 1, we reviewed operators and interacting with numbers.  We skipped the [increment](https://docs.microsoft.com/en-us/dotnet/csharp/language-reference/operators/arithmetic-operators?WT.mc_id=visualstudio-twitch-jefritz#increment-operator-) `++` and [decrement](https://docs.microsoft.com/en-us/dotnet/csharp/language-reference/operators/arithmetic-operators?WT.mc_id=visualstudio-twitch-jefritz#decrement-operator---) `--` operators.  These operators allow you to increment and decrement values quickly.  You can place these operators before and after the variable you would like to act on, and they will be incremented or decremented before or after being returned.\n",
    "\n",
    "Let's take a look:"
   ]
  },
  {
   "cell_type": "code",
   "execution_count": 1,
   "metadata": {},
   "outputs": [
    {
     "data": {
      "text/html": [
       "\r\n",
       "<div>\r\n",
       "    <div id='dotnet-interactive-this-cell-34940.aa6855734b14439e9422c5c6a79fbf40' style='display: none'>\r\n",
       "        The below script needs to be able to find the current output cell; this is an easy method to get it.\r\n",
       "    </div>\r\n",
       "    <script type='text/javascript'>\r\n",
       "// ensure `require` is available globally\r\n",
       "if (typeof require !== typeof Function || typeof require.config !== typeof Function) {\r\n",
       "    let require_script = document.createElement('script');\r\n",
       "    require_script.setAttribute('src', 'https://cdnjs.cloudflare.com/ajax/libs/require.js/2.3.6/require.min.js');\r\n",
       "    require_script.setAttribute('type', 'text/javascript');\r\n",
       "    require_script.onload = function () {\r\n",
       "        loadDotnetInteractiveApi();\r\n",
       "    };\r\n",
       "\r\n",
       "    document.getElementsByTagName('head')[0].appendChild(require_script);\r\n",
       "}\r\n",
       "else {\r\n",
       "    loadDotnetInteractiveApi();\r\n",
       "}\r\n",
       "\r\n",
       "async function probeAddresses(probingAddresses) {\r\n",
       "    function timeout(ms, promise) {\r\n",
       "        return new Promise(function (resolve, reject) {\r\n",
       "            setTimeout(function () {\r\n",
       "                reject(new Error('timeout'))\r\n",
       "            }, ms)\r\n",
       "            promise.then(resolve, reject)\r\n",
       "        })\r\n",
       "    }\r\n",
       "\r\n",
       "    if (Array.isArray(probingAddresses)) {\r\n",
       "        for (let i = 0; i < probingAddresses.length; i++) {\r\n",
       "\r\n",
       "            let rootUrl = probingAddresses[i];\r\n",
       "\r\n",
       "            if (!rootUrl.endsWith('/')) {\r\n",
       "                rootUrl = `${rootUrl}/`;\r\n",
       "            }\r\n",
       "\r\n",
       "            try {\r\n",
       "                let response = await timeout(1000, fetch(`${rootUrl}discovery`, {\r\n",
       "                    method: 'POST',\r\n",
       "                    cache: 'no-cache',\r\n",
       "                    mode: 'cors',\r\n",
       "                    timeout: 1000,\r\n",
       "                    headers: {\r\n",
       "                        'Content-Type': 'text/plain'\r\n",
       "                    },\r\n",
       "                    body: probingAddresses[i]\r\n",
       "                }));\r\n",
       "\r\n",
       "                if (response.status == 200) {\r\n",
       "                    return rootUrl;\r\n",
       "                }\r\n",
       "            }\r\n",
       "            catch (e) { }\r\n",
       "        }\r\n",
       "    }\r\n",
       "}\r\n",
       "\r\n",
       "function loadDotnetInteractiveApi() {\r\n",
       "    probeAddresses([\"http://172.22.192.1:1002/\", \"http://192.168.1.71:1002/\", \"http://127.0.0.1:1002/\"])\r\n",
       "        .then((root) => {\r\n",
       "            // use probing to find host url and api resources\r\n",
       "            // load interactive helpers and language services\r\n",
       "            let dotnetInteractiveRequire = require.config({\r\n",
       "                context: '34940.aa6855734b14439e9422c5c6a79fbf40',\r\n",
       "                paths: {\r\n",
       "                    'dotnet-interactive': `${root}resources`\r\n",
       "                }\r\n",
       "            }) || require;\r\n",
       "\r\n",
       "            let dotnetInteractiveExtensionsRequire = require.config({\r\n",
       "                context: '34940.aa6855734b14439e9422c5c6a79fbf40',\r\n",
       "                paths: {\r\n",
       "                    'dotnet-interactive-extensions': `${root}extensions`\r\n",
       "                }\r\n",
       "            }) || require;\r\n",
       "\r\n",
       "            if (!window.dotnetInteractiveRequire) {\r\n",
       "                window.dotnetInteractiveRequire = dotnetInteractiveRequire;\r\n",
       "            }\r\n",
       "\r\n",
       "            if (!window.dotnetInteractiveExtensionsRequire) {\r\n",
       "                window.dotnetInteractiveExtensionsRequire = dotnetInteractiveExtensionsRequire;\r\n",
       "            }\r\n",
       "\r\n",
       "            window.getExtensionRequire = function(extensionName, extensionCacheBuster) {\r\n",
       "                let paths = {};\r\n",
       "                paths[extensionName] = `${root}extensions/${extensionName}/resources/`;\r\n",
       "                \r\n",
       "                let internalRequire = require.config({\r\n",
       "                    context: extensionCacheBuster,\r\n",
       "                    paths: paths,\r\n",
       "                    urlArgs: `cacheBuster=${extensionCacheBuster}`\r\n",
       "                    }) || require;\r\n",
       "\r\n",
       "                return internalRequire\r\n",
       "            };\r\n",
       "        \r\n",
       "            dotnetInteractiveRequire([\r\n",
       "                    'dotnet-interactive/dotnet-interactive'\r\n",
       "                ],\r\n",
       "                function (dotnet) {\r\n",
       "                    dotnet.init(window);\r\n",
       "                },\r\n",
       "                function (error) {\r\n",
       "                    console.log(error);\r\n",
       "                }\r\n",
       "            );\r\n",
       "        })\r\n",
       "        .catch(error => {console.log(error);});\r\n",
       "    }\r\n",
       "    </script>\r\n",
       "</div>"
      ]
     },
     "metadata": {},
     "output_type": "display_data"
    },
    {
     "data": {
      "text/html": [
       "<div class=\"dni-plaintext\">1</div>"
      ]
     },
     "metadata": {},
     "output_type": "display_data"
    },
    {
     "data": {
      "text/html": [
       "<div class=\"dni-plaintext\">0</div>"
      ]
     },
     "metadata": {},
     "output_type": "display_data"
    }
   ],
   "source": [
    "var counter = 1;\n",
    "display(counter--); // Running ++ AFTER counter will display 1\n",
    "display(counter);   // and then display 2 in the next row"
   ]
  },
  {
   "cell_type": "code",
   "execution_count": 2,
   "metadata": {},
   "outputs": [
    {
     "data": {
      "text/html": [
       "<div class=\"dni-plaintext\">0</div>"
      ]
     },
     "metadata": {},
     "output_type": "display_data"
    }
   ],
   "source": [
    "var counter = 1;\n",
    "display(--counter); // Running ++ BEFORE counter will display 2 as it is incrementing the variable before \n",
    "                    // displaying it"
   ]
  },
  {
   "cell_type": "markdown",
   "metadata": {},
   "source": [
    "## Logical negation operator\n",
    "\n",
    "Sometimes you want to invert the value of a boolean, converting from `true` to `false` and from `false` to `true`.  Quite simply, just prefix your test or boolean value with  the [negation operator](https://docs.microsoft.com/en-us/dotnet/csharp/language-reference/operators/boolean-logical-operators?WT.mc_id=visualstudio-twitch-jefritz#logical-negation-operator-) `!` to invert values"
   ]
  },
  {
   "cell_type": "code",
   "execution_count": 3,
   "metadata": {},
   "outputs": [
    {
     "data": {
      "text/html": [
       "<div class=\"dni-plaintext\">False</div>"
      ]
     },
     "metadata": {},
     "output_type": "display_data"
    },
    {
     "data": {
      "text/html": [
       "<div class=\"dni-plaintext\">True</div>"
      ]
     },
     "metadata": {},
     "output_type": "display_data"
    }
   ],
   "source": [
    "var isTrue = true;\n",
    "display(!isTrue);\n",
    "\n",
    "display(!(1 > 2))\n"
   ]
  },
  {
   "cell_type": "markdown",
   "metadata": {},
   "source": [
    "## TypeOf, GetType and NameOf methods\n",
    "\n",
    "Sometimes you need to work with the type of a variable or the name of a value.  The methods `typeof`, `GetType()` and `nameof` allow you to interact with the types and pass them along for further interaction.\n",
    "\n",
    "[typeof](https://docs.microsoft.com/en-us/dotnet/csharp/language-reference/operators/type-testing-and-cast?WT.mc_id=visualstudio-twitch-jefritz#typeof-operator) allows you to get a reference to a type for use in methods where you need to inspect the underlying type system"
   ]
  },
  {
   "cell_type": "code",
   "execution_count": 4,
   "metadata": {},
   "outputs": [
    {
     "data": {
      "text/html": [
       "<span><a href=\"https://docs.microsoft.com/dotnet/api/system.int32?view=netcore-3.0\">System.Int32</a></span>"
      ]
     },
     "metadata": {},
     "output_type": "display_data"
    }
   ],
   "source": [
    "display(typeof(int));"
   ]
  },
  {
   "cell_type": "markdown",
   "metadata": {},
   "source": [
    "Conversely, the `GetType()` method allows you to get the type information for a variable already in use.  Every object in C# has the `GetType()` method available."
   ]
  },
  {
   "cell_type": "code",
   "execution_count": 5,
   "metadata": {},
   "outputs": [
    {
     "data": {
      "text/html": [
       "<span><a href=\"https://docs.microsoft.com/dotnet/api/system.int32?view=netcore-3.0\">System.Int32</a></span>"
      ]
     },
     "metadata": {},
     "output_type": "display_data"
    }
   ],
   "source": [
    "var myInt = 5;\n",
    "display(myInt.GetType());"
   ]
  },
  {
   "cell_type": "markdown",
   "metadata": {},
   "source": [
    "The [`nameof` expression](https://docs.microsoft.com/en-us/dotnet/csharp/language-reference/operators/nameof?WT.mc_id=visualstudio-twitch-jefritz) gives the name of a type or member as a string.  This is particularly useful when you are generating error messages."
   ]
  },
  {
   "cell_type": "code",
   "execution_count": 6,
   "metadata": {},
   "outputs": [
    {
     "data": {
      "text/plain": [
       "People"
      ]
     },
     "metadata": {},
     "output_type": "display_data"
    },
    {
     "data": {
      "text/html": [
       "Submission#9+People"
      ]
     },
     "metadata": {},
     "output_type": "display_data"
    },
    {
     "data": {
      "text/plain": [
       "Name"
      ]
     },
     "metadata": {},
     "output_type": "display_data"
    }
   ],
   "source": [
    "class People {\n",
    "    public string Name { get; set; }\n",
    "    public TimeSpan CalculateAge() => DateTime.Now.Subtract(new DateTime(2000,1,1));\n",
    "}\n",
    "\n",
    "var fritz = new People { Name=\"Fritz\" };\n",
    "\n",
    "display(nameof(People));\n",
    "display(typeof(People));\n",
    "display(nameof(fritz.Name));"
   ]
  },
  {
   "cell_type": "markdown",
   "metadata": {},
   "source": [
    "## String Formatting\n",
    "\n",
    "Formatting and working with strings or text is a fundamental building block of working with user-input.  We failed to cover the various ways to interact with those strings.  Let's take a look at a handful of the ways to work with text data.\n",
    "\n",
    "## Concatenation\n",
    "\n",
    "You may have seen notes and output that concatenates strings by using the [`+` operator](https://docs.microsoft.com/en-us/dotnet/csharp/language-reference/operators/addition-operator?WT.mc_id=visualstudio-twitch-jefritz#string-concatenation).  This is the simplest form of concatenation and only works when both sides of the `+` operator are strings.  "
   ]
  },
  {
   "cell_type": "code",
   "execution_count": 7,
   "metadata": {},
   "outputs": [
    {
     "data": {
      "text/plain": [
       "Hello World!"
      ]
     },
     "metadata": {},
     "output_type": "display_data"
    },
    {
     "data": {
      "text/plain": [
       "Hello C# developers"
      ]
     },
     "metadata": {},
     "output_type": "display_data"
    }
   ],
   "source": [
    "var greeting = \"Hello\";\n",
    "display(greeting + \" World!\");\n",
    "\n",
    "// += also works\n",
    "greeting += \" C# developers\";\n",
    "display(greeting);"
   ]
  },
  {
   "cell_type": "markdown",
   "metadata": {},
   "source": [
    "If you have multiple strings to combine, the `+` operator gets a little unwieldy and is not as performance aware as several other techniques.  We can [combine multiple strings](https://docs.microsoft.com/en-us/dotnet/csharp/how-to/concatenate-multiple-strings?WT.mc_id=visualstudio-twitch-jefritz) using the `Concat`, `Join`, `Format` and interpolation features of C#."
   ]
  },
  {
   "cell_type": "code",
   "execution_count": 8,
   "metadata": {},
   "outputs": [
    {
     "data": {
      "text/plain": [
       "Good Morning Visual Studio Channel!"
      ]
     },
     "metadata": {},
     "output_type": "display_data"
    }
   ],
   "source": [
    "var greeting = \"Good\";\n",
    "var time = DateTime.Now.Hour < 12 && DateTime.Now.Hour > 3  ? \"Morning\" : DateTime.Now.Hour < 17 ? \"Afternoon\" : \"Evening\";\n",
    "var name = \"Visual Studio Channel\";\n",
    "\n",
    "// Use string.concat with a comma separated list of arguments \n",
    "display(string.Concat(greeting, \" \", time, \" \", name + \"!\"));"
   ]
  },
  {
   "cell_type": "code",
   "execution_count": 9,
   "metadata": {},
   "outputs": [
    {
     "data": {
      "text/plain": [
       "Good Morning Visual Studio Channel"
      ]
     },
     "metadata": {},
     "output_type": "display_data"
    }
   ],
   "source": [
    "var terms = new [] {greeting, time, name};\n",
    "\n",
    "// Use string.Join to assembly values in an array with a separator\n",
    "display(string.Join(\" \", terms));"
   ]
  },
  {
   "cell_type": "code",
   "execution_count": 10,
   "metadata": {},
   "outputs": [
    {
     "data": {
      "text/plain": [
       "Good Visual Studio Channel Morning"
      ]
     },
     "metadata": {},
     "output_type": "display_data"
    }
   ],
   "source": [
    "// Use string.Format to configure a template string and load values into it based on position\n",
    "var format = \"Good {1} {0}\";\n",
    "display(string.Format(format, time, name));"
   ]
  },
  {
   "cell_type": "code",
   "execution_count": 11,
   "metadata": {},
   "outputs": [
    {
     "data": {
      "text/plain": [
       "Good Morning Visual Studio Channel Fritz,Scott,Maria,Jayme"
      ]
     },
     "metadata": {},
     "output_type": "display_data"
    }
   ],
   "source": [
    "// With C# 7 and later you can now use string interpolation to format a string.  \n",
    "// Simply prefix a string with a $ to allow you to insert C# expressions in { } inside\n",
    "// a string\n",
    "\n",
    "var names = new string[] {\"Fritz\", \"Scott\", \"Maria\", \"Jayme\"};\n",
    "\n",
    "display($\"Good {time} {name} {string.Join(\",\",names)}\");\n"
   ]
  },
  {
   "cell_type": "code",
   "execution_count": 12,
   "metadata": {},
   "outputs": [
    {
     "data": {
      "text/plain": [
       "Good Morning Visual Studio Channel"
      ]
     },
     "metadata": {},
     "output_type": "display_data"
    }
   ],
   "source": [
    "// Another technique that can be used when you don't know the exact number of strings\n",
    "// to concatenate is to use the StringBuilder class.\n",
    "\n",
    "var sb = new StringBuilder();\n",
    "sb.AppendFormat(\"Good {0}\", time);\n",
    "sb.Append(\" \");\n",
    "sb.Append(name);\n",
    "\n",
    "display(sb.ToString());"
   ]
  },
  {
   "cell_type": "markdown",
   "metadata": {},
   "source": [
    "### Parsing strings with Split\n",
    "\n",
    "You can turn a string into an array of strings using the `Split` method on a string variable.  Pass the character that identifies the boundary between elements of your array to turn it into an array:"
   ]
  },
  {
   "cell_type": "code",
   "execution_count": 13,
   "metadata": {},
   "outputs": [
    {
     "data": {
      "text/html": [
       "<table><thead><tr><th><i>index</i></th><th>value</th></tr></thead><tbody><tr><td>0</td><td><div class=\"dni-plaintext\">Good</div></td></tr><tr><td>1</td><td><div class=\"dni-plaintext\">Morning</div></td></tr><tr><td>2</td><td><div class=\"dni-plaintext\">Cleveland</div></td></tr></tbody></table>"
      ]
     },
     "metadata": {},
     "output_type": "display_data"
    },
    {
     "data": {
      "text/plain": [
       "Cleveland"
      ]
     },
     "metadata": {},
     "output_type": "display_data"
    }
   ],
   "source": [
    "var phrase = \"Good Morning Cleveland\";\n",
    "display(phrase.Split(' '));\n",
    "display(phrase.Split(' ')[2]);"
   ]
  },
  {
   "cell_type": "code",
   "execution_count": 14,
   "metadata": {},
   "outputs": [
    {
     "data": {
      "text/html": [
       "<table><thead><tr><th><i>index</i></th><th>value</th></tr></thead><tbody><tr><td>0</td><td><div class=\"dni-plaintext\">1</div></td></tr><tr><td>1</td><td><div class=\"dni-plaintext\">1</div></td></tr><tr><td>2</td><td><div class=\"dni-plaintext\">2</div></td></tr><tr><td>3</td><td><div class=\"dni-plaintext\">3</div></td></tr><tr><td>4</td><td><div class=\"dni-plaintext\">5</div></td></tr><tr><td>5</td><td><div class=\"dni-plaintext\">8</div></td></tr><tr><td>6</td><td><div class=\"dni-plaintext\">13</div></td></tr><tr><td>7</td><td><div class=\"dni-plaintext\">21</div></td></tr></tbody></table>"
      ]
     },
     "metadata": {},
     "output_type": "display_data"
    }
   ],
   "source": [
    "var fibonacci = \"1,1,2,3,5,8,13,21\";\n",
    "display(fibonacci.Split(','));"
   ]
  },
  {
   "cell_type": "markdown",
   "metadata": {},
   "source": [
    "## A Deeper Dive on Enums\n",
    "\n",
    "We briefly discussed enumeration types in session 3 and touched on using the `enum` keyword to represent related values.  Let's go a little further into conversions and working with the enum types.\n",
    "\n",
    "### Conversions\n",
    "\n",
    "[Enum types](https://docs.microsoft.com/en-us/dotnet/csharp/language-reference/builtin-types/enum?WT.mc_id=visualstudio-twitch-jefritz) are extensions on top of numeric types.  By default, they wrap the `int` integer data type.  While this base numeric type can be overridden, we can also convert data into and out of the enum using standard explicit conversion operators  "
   ]
  },
  {
   "cell_type": "code",
   "execution_count": 15,
   "metadata": {},
   "outputs": [
    {
     "data": {
      "text/html": [
       "<span>csharp</span>"
      ]
     },
     "metadata": {},
     "output_type": "display_data"
    },
    {
     "data": {
      "text/html": [
       "<div class=\"dni-plaintext\">100</div>"
      ]
     },
     "metadata": {},
     "output_type": "display_data"
    },
    {
     "data": {
      "text/html": [
       "<div class=\"dni-plaintext\">100</div>"
      ]
     },
     "metadata": {},
     "output_type": "display_data"
    },
    {
     "data": {
      "text/html": [
       "<span>visual_basic</span>"
      ]
     },
     "metadata": {},
     "output_type": "display_data"
    }
   ],
   "source": [
    "enum DotNetLanguages : byte {\n",
    "    csharp = 100,\n",
    "    visual_basic = 2,\n",
    "    fsharp = 3\n",
    "}\n",
    "\n",
    "var myLanguage = DotNetLanguages.csharp;\n",
    "display(myLanguage);\n",
    "display((byte)myLanguage);\n",
    "display((int)myLanguage);\n",
    "\n",
    "// Push a numeric type INTO DotNetLanguages\n",
    "myLanguage = (DotNetLanguages)2;\n",
    "display(myLanguage);"
   ]
  },
  {
   "cell_type": "markdown",
   "metadata": {},
   "source": [
    "### Working with strings using Parse and TryParse\n",
    "\n",
    "What about the string value of the enumeration itself?  We can work with that using the [`Parse`](https://docs.microsoft.com/en-us/dotnet/api/system.enum.parse?view=netcore-3.1&WT.mc_id=visualstudio-twitch-jefritz) and [`TryParse`](https://docs.microsoft.com/en-us/dotnet/api/system.enum.tryparse?view=netcore-3.1&WT.mc_id=visualstudio-twitch-jefritz) methods of the Enum object to convert a string into the Enum type"
   ]
  },
  {
   "cell_type": "code",
   "execution_count": 16,
   "metadata": {},
   "outputs": [
    {
     "data": {
      "text/html": [
       "<span>csharp</span>"
      ]
     },
     "metadata": {},
     "output_type": "display_data"
    },
    {
     "data": {
      "text/html": [
       "<span>csharp</span>"
      ]
     },
     "metadata": {},
     "output_type": "display_data"
    }
   ],
   "source": [
    "var thisLanguage = \"csharp\";\n",
    "myLanguage = Enum.Parse<DotNetLanguages>(thisLanguage);\n",
    "display(myLanguage);\n",
    "\n",
    "// Use the optional boolean flag parameter to indicate if the Parse operation is case-insensitive \n",
    "thisLanguage = \"CSharp\";\n",
    "myLanguage = Enum.Parse<DotNetLanguages>(thisLanguage, true);\n",
    "display(myLanguage);"
   ]
  },
  {
   "cell_type": "code",
   "execution_count": 17,
   "metadata": {},
   "outputs": [
    {
     "data": {
      "text/html": [
       "<div class=\"dni-plaintext\">True</div>"
      ]
     },
     "metadata": {},
     "output_type": "display_data"
    },
    {
     "data": {
      "text/html": [
       "<span>visual_basic</span>"
      ]
     },
     "metadata": {},
     "output_type": "display_data"
    }
   ],
   "source": [
    "// TryParse has a similar signature, but returns a boolean to indicate success \n",
    "var success = Enum.TryParse<DotNetLanguages>(\"Visual_Basic\", true, out var foo);\n",
    "display(success);\n",
    "display(foo);"
   ]
  },
  {
   "cell_type": "markdown",
   "metadata": {},
   "source": [
    "### GetValues and the Enumeration's available values\n",
    "\n",
    "The constant values of the enum type can be exposed using the [Enum.GetValues](https://docs.microsoft.com/en-us/dotnet/api/system.enum.getvalues?view=netcore-3.1&WT.mc_id=visualstudio-twitch-jefritz) method.  This returns an array of the numeric values of the enum.  Let's inspect our `DotNetLanguages` type: "
   ]
  },
  {
   "cell_type": "code",
   "execution_count": 29,
   "metadata": {},
   "outputs": [
    {
     "data": {
      "text/html": [
       "<table><thead><tr><th><i>index</i></th><th>value__</th></tr></thead><tbody><tr><td>0</td><td><div class=\"dni-plaintext\">2</div></td></tr><tr><td>1</td><td><div class=\"dni-plaintext\">3</div></td></tr><tr><td>2</td><td><div class=\"dni-plaintext\">100</div></td></tr></tbody></table>"
      ]
     },
     "metadata": {},
     "output_type": "display_data"
    }
   ],
   "source": [
    "var languages = Enum.GetValues(typeof(DotNetLanguages));\n",
    "display(languages);"
   ]
  },
  {
   "cell_type": "code",
   "execution_count": 19,
   "metadata": {},
   "outputs": [
    {
     "data": {
      "text/html": [
       "<span>visual_basic</span>"
      ]
     },
     "metadata": {},
     "output_type": "display_data"
    },
    {
     "data": {
      "text/html": [
       "<span>fsharp</span>"
      ]
     },
     "metadata": {},
     "output_type": "display_data"
    },
    {
     "data": {
      "text/html": [
       "<span>csharp</span>"
      ]
     },
     "metadata": {},
     "output_type": "display_data"
    }
   ],
   "source": [
    "// We can convert back to the named values of the enum with a little conversion\n",
    "foreach (var l in languages) {\n",
    "    display((DotNetLanguages)l);\n",
    "}"
   ]
  },
  {
   "cell_type": "markdown",
   "metadata": {},
   "source": [
    "## Classes vs. Structs\n",
    "\n",
    "In the second session we introduced the `class` keyword to create reference types.  There is another keyword, `struct`, that allows you to create [Structure](https://docs.microsoft.com/en-us/dotnet/csharp/language-reference/builtin-types/struct?WT.mc_id=visualstudio-twitch-jefritz) **value types** which will be allocated in memory and reclaimed more quickly than a class.  While a `struct` looks like a class in syntax, there are some constraints:\n",
    "\n",
    "- A constructor must be defined that configures all properties / fields\n",
    "- The parameterless constructor is not allowed\n",
    "- Instance Fields / Properties cannot be assigned in their declaration\n",
    "- Finalizers are not allowed\n",
    "- A struct cannot inherit from another type, but can implement interfaces \n",
    "\n",
    "Structs are typically used to store related numeric types.  Let's tinker with an example:"
   ]
  },
  {
   "cell_type": "code",
   "execution_count": 42,
   "metadata": {},
   "outputs": [
    {
     "data": {
      "text/html": [
       "<table><thead><tr><th>Length</th><th>Width</th><th>Area</th><th>Perimeter</th><th>Fibonacci</th></tr></thead><tbody><tr><td><div class=\"dni-plaintext\">2</div></td><td><div class=\"dni-plaintext\">5</div></td><td><div class=\"dni-plaintext\">10</div></td><td><div class=\"dni-plaintext\">14</div></td><td><div class=\"dni-plaintext\">[ 1, 1, 2, 3, 5 ]</div></td></tr></tbody></table>"
      ]
     },
     "metadata": {},
     "output_type": "display_data"
    },
    {
     "data": {
      "text/html": [
       "<div class=\"dni-plaintext\">25</div>"
      ]
     },
     "metadata": {},
     "output_type": "display_data"
    }
   ],
   "source": [
    "struct Rectangle {\n",
    "    \n",
    "    public Rectangle(int length, int width) {\n",
    "        this.Length = length;\n",
    "        this.Width = width;\n",
    "    }\n",
    "    \n",
    "    public static readonly int Depth = DateTime.Now.Minute;\n",
    "    \n",
    "    public int Length {get;set;}\n",
    "    public int Width {get;set;}\n",
    "    \n",
    "    public int Area { get { return Length * Width;}}\n",
    "    public int Perimeter { get { return Length*2 + Width*2;}}\n",
    "    \n",
    "}\n",
    "\n",
    "var myRectangle = new Rectangle(2, 5);\n",
    "display(myRectangle);\n",
    "display(Rectangle.Depth);"
   ]
  },
  {
   "cell_type": "code",
   "execution_count": 45,
   "metadata": {},
   "outputs": [
    {
     "data": {
      "text/html": [
       "<table><thead><tr><th>CountryCode</th><th>Exchange</th><th>Number</th></tr></thead><tbody><tr><td><span>USA</span></td><td><div class=\"dni-plaintext\">867</div></td><td><div class=\"dni-plaintext\">5309</div></td></tr></tbody></table>"
      ]
     },
     "metadata": {},
     "output_type": "display_data"
    }
   ],
   "source": [
    "enum CountryCode {\n",
    "    USA = 1\n",
    "}\n",
    "\n",
    "struct PhoneNumber {\n",
    "    \n",
    "    public PhoneNumber(CountryCode countryCode, string exchange, string number) {\n",
    "        this.CountryCode = countryCode;\n",
    "        this.Exchange = exchange;\n",
    "        this.Number = number;\n",
    "    }\n",
    "    \n",
    "    public CountryCode CountryCode { get; set;}\n",
    "    public string Exchange { get; set;}\n",
    "    public string Number {get; set;}\n",
    "    \n",
    "}\n",
    "\n",
    "var jennysNumber = new PhoneNumber(CountryCode.USA, \"867\", \"5309\");\n",
    "display(jennysNumber);\n"
   ]
  },
  {
   "cell_type": "markdown",
   "metadata": {},
   "source": [
    "### When should I use a struct instead of a class?\n",
    "\n",
    "This is a common question among C# developers.  How do you decide?  Since a `struct` is a simple value type, there are [several guidelines to help you decide](https://docs.microsoft.com/en-us/dotnet/standard/design-guidelines/choosing-between-class-and-struct?WT.mc_id=visualstudio-twitch-jefritz):\n",
    "\n",
    "**Choose a struct INSTEAD of a class if all of these are true about the type:**\n",
    "- It will be small and short-lived in memory\n",
    "- It represents a single value\n",
    "- It can be represented in 16 bytes or less\n",
    "- It will not be changed, and is immutable\n",
    "- You will not be converting it to a class (called `boxing` and `unboxing`)"
   ]
  },
  {
   "cell_type": "markdown",
   "metadata": {},
   "source": [
    "## Stopping and Skipping Loops \n",
    "\n",
    "In session four we learned about loops using `for`, `while`, and `do`.  We can speed up our loop by moving to the next iteration in the loop and we can stop a loop process completely using the `continue` and `break` keywords.  Let's take a look at some examples:"
   ]
  },
  {
   "cell_type": "code",
   "execution_count": 46,
   "metadata": {},
   "outputs": [
    {
     "data": {
      "text/html": [
       "<div class=\"dni-plaintext\">1</div>"
      ]
     },
     "metadata": {},
     "output_type": "display_data"
    },
    {
     "data": {
      "text/html": [
       "<div class=\"dni-plaintext\">2</div>"
      ]
     },
     "metadata": {},
     "output_type": "display_data"
    },
    {
     "data": {
      "text/html": [
       "<div class=\"dni-plaintext\">3</div>"
      ]
     },
     "metadata": {},
     "output_type": "display_data"
    },
    {
     "data": {
      "text/html": [
       "<div class=\"dni-plaintext\">4</div>"
      ]
     },
     "metadata": {},
     "output_type": "display_data"
    },
    {
     "data": {
      "text/html": [
       "<div class=\"dni-plaintext\">5</div>"
      ]
     },
     "metadata": {},
     "output_type": "display_data"
    },
    {
     "data": {
      "text/html": [
       "<div class=\"dni-plaintext\">6</div>"
      ]
     },
     "metadata": {},
     "output_type": "display_data"
    },
    {
     "data": {
      "text/html": [
       "<div class=\"dni-plaintext\">7</div>"
      ]
     },
     "metadata": {},
     "output_type": "display_data"
    },
    {
     "data": {
      "text/html": [
       "<div class=\"dni-plaintext\">8</div>"
      ]
     },
     "metadata": {},
     "output_type": "display_data"
    },
    {
     "data": {
      "text/html": [
       "<div class=\"dni-plaintext\">9</div>"
      ]
     },
     "metadata": {},
     "output_type": "display_data"
    },
    {
     "data": {
      "text/html": [
       "<div class=\"dni-plaintext\">10</div>"
      ]
     },
     "metadata": {},
     "output_type": "display_data"
    }
   ],
   "source": [
    "for (var i=1; i<10_000_000; i++) {\n",
    "    display(i);\n",
    "    if (i%10 == 0) break; // Stop if the value is a multiple of 10\n",
    "}"
   ]
  },
  {
   "cell_type": "code",
   "execution_count": 47,
   "metadata": {},
   "outputs": [
    {
     "data": {
      "text/html": [
       "<div class=\"dni-plaintext\">1</div>"
      ]
     },
     "metadata": {},
     "output_type": "display_data"
    },
    {
     "data": {
      "text/html": [
       "<div class=\"dni-plaintext\">2</div>"
      ]
     },
     "metadata": {},
     "output_type": "display_data"
    },
    {
     "data": {
      "text/html": [
       "<div class=\"dni-plaintext\">4</div>"
      ]
     },
     "metadata": {},
     "output_type": "display_data"
    },
    {
     "data": {
      "text/html": [
       "<div class=\"dni-plaintext\">5</div>"
      ]
     },
     "metadata": {},
     "output_type": "display_data"
    },
    {
     "data": {
      "text/html": [
       "<div class=\"dni-plaintext\">7</div>"
      ]
     },
     "metadata": {},
     "output_type": "display_data"
    },
    {
     "data": {
      "text/html": [
       "<div class=\"dni-plaintext\">8</div>"
      ]
     },
     "metadata": {},
     "output_type": "display_data"
    },
    {
     "data": {
      "text/html": [
       "<div class=\"dni-plaintext\">10</div>"
      ]
     },
     "metadata": {},
     "output_type": "display_data"
    }
   ],
   "source": [
    "// We can skip an iteration in the loop using the continue keyword\n",
    "for (var i = 1; i<10_000_000; i++) {\n",
    "    if (i%3 == 0) continue; // Skip this iteration\n",
    "    display(i);\n",
    "    if (i%10 == 0) break;\n",
    "}"
   ]
  },
  {
   "cell_type": "markdown",
   "metadata": {},
   "source": [
    "## Initializing Collections\n",
    "\n",
    "In the fifth session we explored Arrays, Lists, and Dictionary types.  We saw that you could initialize an array with syntax like the following:"
   ]
  },
  {
   "cell_type": "code",
   "execution_count": 59,
   "metadata": {},
   "outputs": [
    {
     "data": {
      "text/html": [
       "<table><thead><tr><th><i>index</i></th><th>value</th></tr></thead><tbody><tr><td>0</td><td><div class=\"dni-plaintext\">1</div></td></tr><tr><td>1</td><td><div class=\"dni-plaintext\">1</div></td></tr><tr><td>2</td><td><div class=\"dni-plaintext\">2</div></td></tr><tr><td>3</td><td><div class=\"dni-plaintext\">3</div></td></tr><tr><td>4</td><td><div class=\"dni-plaintext\">5</div></td></tr><tr><td>5</td><td><div class=\"dni-plaintext\">8</div></td></tr><tr><td>6</td><td><div class=\"dni-plaintext\">13</div></td></tr></tbody></table>"
      ]
     },
     "metadata": {},
     "output_type": "display_data"
    }
   ],
   "source": [
    "var fibonacci = new int[] {1,1,2,3,5,8,13};\n",
    "display(fibonacci);\n",
    "\n",
    "//var coordinates = new int[,] {{1,2}, {2,3}};\n",
    "//display(coordinates);"
   ]
  },
  {
   "cell_type": "markdown",
   "metadata": {},
   "source": [
    "We can also initialize List and Dictionary types using the curly braces notation:"
   ]
  },
  {
   "cell_type": "code",
   "execution_count": 54,
   "metadata": {},
   "outputs": [
    {
     "data": {
      "text/html": [
       "<table><thead><tr><th><i>index</i></th><th>value</th></tr></thead><tbody><tr><td>0</td><td><div class=\"dni-plaintext\">C#</div></td></tr><tr><td>1</td><td><div class=\"dni-plaintext\">Visual Basic</div></td></tr><tr><td>2</td><td><div class=\"dni-plaintext\">F#</div></td></tr></tbody></table>"
      ]
     },
     "metadata": {},
     "output_type": "display_data"
    },
    {
     "data": {
      "text/html": [
       "<table><thead><tr><th><i>index</i></th><th>Length</th><th>Width</th><th>Area</th><th>Perimeter</th><th>Fibonacci</th></tr></thead><tbody><tr><td>0</td><td><div class=\"dni-plaintext\">2</div></td><td><div class=\"dni-plaintext\">5</div></td><td><div class=\"dni-plaintext\">10</div></td><td><div class=\"dni-plaintext\">14</div></td><td><div class=\"dni-plaintext\">[ 1, 1, 2, 3, 5 ]</div></td></tr><tr><td>1</td><td><div class=\"dni-plaintext\">3</div></td><td><div class=\"dni-plaintext\">4</div></td><td><div class=\"dni-plaintext\">12</div></td><td><div class=\"dni-plaintext\">14</div></td><td><div class=\"dni-plaintext\">[ 1, 1, 2, 3, 5 ]</div></td></tr><tr><td>2</td><td><div class=\"dni-plaintext\">4</div></td><td><div class=\"dni-plaintext\">3</div></td><td><div class=\"dni-plaintext\">12</div></td><td><div class=\"dni-plaintext\">14</div></td><td><div class=\"dni-plaintext\">[ 1, 1, 2, 3, 5 ]</div></td></tr></tbody></table>"
      ]
     },
     "metadata": {},
     "output_type": "display_data"
    }
   ],
   "source": [
    "var myList = new List<string> {\n",
    "    \"C#\",\n",
    "    \"Visual Basic\",\n",
    "    \"F#\"\n",
    "};\n",
    "display(myList);\n",
    "\n",
    "var myShapes = new List<Rectangle> {\n",
    "    new Rectangle(2, 5),\n",
    "    new Rectangle(3, 4),\n",
    "    new Rectangle(4, 3)\n",
    "};\n",
    "display(myShapes);\n"
   ]
  },
  {
   "cell_type": "code",
   "execution_count": 25,
   "metadata": {},
   "outputs": [
    {
     "data": {
      "text/html": [
       "<table><thead><tr><th><i>key</i></th><th>value</th></tr></thead><tbody><tr><td><div class=\"dni-plaintext\">100</div></td><td><div class=\"dni-plaintext\">C#</div></td></tr><tr><td><div class=\"dni-plaintext\">200</div></td><td><div class=\"dni-plaintext\">Visual Basic</div></td></tr><tr><td><div class=\"dni-plaintext\">300</div></td><td><div class=\"dni-plaintext\">F#</div></td></tr></tbody></table>"
      ]
     },
     "metadata": {},
     "output_type": "display_data"
    }
   ],
   "source": [
    "var myDictionary = new Dictionary<int, string> {\n",
    "    {100, \"C#\"},\n",
    "    {200, \"Visual Basic\"},\n",
    "    {300, \"F#\"}\n",
    "};\n",
    "display(myDictionary);"
   ]
  },
  {
   "cell_type": "markdown",
   "metadata": {},
   "source": [
    "## Const and Static keywords\n",
    "\n",
    "\n"
   ]
  },
  {
   "cell_type": "code",
   "execution_count": 62,
   "metadata": {},
   "outputs": [
    {
     "name": "stderr",
     "output_type": "stream",
     "text": [
      "\n",
      "(3,1): error CS0131: The left-hand side of an assignment must be a variable, property or indexer\n",
      "\n"
     ]
    },
    {
     "ename": "Cell not executed",
     "evalue": "compilation error",
     "output_type": "error",
     "traceback": []
    }
   ],
   "source": [
    "const int Five = 5;\n",
    "\n",
    "// Five = 6;\n",
    "display(Five);"
   ]
  },
  {
   "cell_type": "code",
   "execution_count": 65,
   "metadata": {},
   "outputs": [
    {
     "data": {
      "text/html": [
       "<div class=\"dni-plaintext\">5.0</div>"
      ]
     },
     "metadata": {},
     "output_type": "display_data"
    }
   ],
   "source": [
    "class Student {\n",
    "    \n",
    "    public const decimal MaxGPA = 5.0m;\n",
    "    \n",
    "}\n",
    "\n",
    "display(Student.MaxGPA);"
   ]
  },
  {
   "cell_type": "code",
   "execution_count": 78,
   "metadata": {},
   "outputs": [
    {
     "data": {
      "text/plain": [
       "Hugo: False"
      ]
     },
     "metadata": {},
     "output_type": "display_data"
    },
    {
     "data": {
      "text/plain": [
       "Fritz: False"
      ]
     },
     "metadata": {},
     "output_type": "display_data"
    },
    {
     "data": {
      "text/plain": [
       "Lily: False"
      ]
     },
     "metadata": {},
     "output_type": "display_data"
    }
   ],
   "source": [
    "class Student {\n",
    "    \n",
    "    public static bool InClass = false;\n",
    "    public string Name { get; set; }\n",
    "\n",
    "    public override string ToString() {\n",
    "        return Name + \": \" + Student.InClass;\n",
    "    }\n",
    "\n",
    "    public static void GoToClass() {\n",
    "        Student.InClass = true;\n",
    "    }\n",
    "    \n",
    "    public static void DitchClass() {\n",
    "        Student.InClass = false;\n",
    "    }\n",
    "    \n",
    "}\n",
    "\n",
    "var students = new Student[] { new Student { Name=\"Hugo\" }, new Student {Name=\"Fritz\"}, new Student {Name=\"Lily\"}};\n",
    "foreach (var s in students) {\n",
    "    display(s.ToString());\n",
    "}"
   ]
  },
  {
   "cell_type": "code",
   "execution_count": 82,
   "metadata": {},
   "outputs": [
    {
     "data": {
      "text/plain": [
       "Hugo: True"
      ]
     },
     "metadata": {},
     "output_type": "display_data"
    },
    {
     "data": {
      "text/plain": [
       "Fritz: True"
      ]
     },
     "metadata": {},
     "output_type": "display_data"
    },
    {
     "data": {
      "text/plain": [
       "Lily: True"
      ]
     },
     "metadata": {},
     "output_type": "display_data"
    }
   ],
   "source": [
    "Student.GoToClass();\n",
    "foreach (var s in students) {\n",
    "    display(s.ToString());\n",
    "}"
   ]
  },
  {
   "cell_type": "code",
   "execution_count": 87,
   "metadata": {},
   "outputs": [
    {
     "data": {
      "text/html": [
       "<div class=\"dni-plaintext\">10</div>"
      ]
     },
     "metadata": {},
     "output_type": "display_data"
    }
   ],
   "source": [
    "static class DateMethods {\n",
    "    \n",
    "    public static int CalculateAge(DateTime date1, DateTime date2) {\n",
    "        return 10;\n",
    "    }\n",
    "    \n",
    "}\n",
    "\n",
    "display(DateMethods.CalculateAge(DateTime.Now, DateTime.Now))"
   ]
  }
 ],
 "metadata": {
  "kernelspec": {
   "display_name": ".NET (C#)",
   "language": "C#",
   "name": ".net-csharp"
  },
  "language_info": {
   "file_extension": ".cs",
   "mimetype": "text/x-csharp",
   "name": "C#",
   "pygments_lexer": "csharp",
   "version": "8.0"
  }
 },
 "nbformat": 4,
 "nbformat_minor": 4
}
